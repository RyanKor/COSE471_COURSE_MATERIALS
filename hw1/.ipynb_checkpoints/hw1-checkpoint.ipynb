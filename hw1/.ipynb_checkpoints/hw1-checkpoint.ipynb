{
 "cells": [
  {
   "cell_type": "code",
   "execution_count": 2,
   "metadata": {},
   "outputs": [
    {
     "name": "stdout",
     "output_type": "stream",
     "text": [
      "Requirement already satisfied: okpy in /Users/ryan_kim/Documents/programming/ds/data/lib/python3.8/site-packages (1.18.1)\n",
      "Requirement already satisfied: certifi==2019.11.28 in /Users/ryan_kim/Documents/programming/ds/data/lib/python3.8/site-packages (from okpy) (2019.11.28)\n",
      "Requirement already satisfied: requests==2.22.0 in /Users/ryan_kim/Documents/programming/ds/data/lib/python3.8/site-packages (from okpy) (2.22.0)\n",
      "Requirement already satisfied: coverage==4.4 in /Users/ryan_kim/Documents/programming/ds/data/lib/python3.8/site-packages (from okpy) (4.4)\n",
      "Requirement already satisfied: pytutor==1.0.0 in /Users/ryan_kim/Documents/programming/ds/data/lib/python3.8/site-packages (from okpy) (1.0.0)\n",
      "Requirement already satisfied: ast-scope==0.3.1 in /Users/ryan_kim/Documents/programming/ds/data/lib/python3.8/site-packages (from okpy) (0.3.1)\n",
      "Requirement already satisfied: pyaes==1.6.1 in /Users/ryan_kim/Documents/programming/ds/data/lib/python3.8/site-packages (from okpy) (1.6.1)\n",
      "Requirement already satisfied: colorama==0.4.3 in /Users/ryan_kim/Documents/programming/ds/data/lib/python3.8/site-packages (from okpy) (0.4.3)\n",
      "Requirement already satisfied: filelock==3.0.12 in /Users/ryan_kim/Documents/programming/ds/data/lib/python3.8/site-packages (from okpy) (3.0.12)\n",
      "Requirement already satisfied: display-timedelta==1.1 in /Users/ryan_kim/Documents/programming/ds/data/lib/python3.8/site-packages (from okpy) (1.1)\n",
      "Requirement already satisfied: attrs==19.3.0 in /Users/ryan_kim/Documents/programming/ds/data/lib/python3.8/site-packages (from okpy) (19.3.0)\n",
      "Requirement already satisfied: chardet==3.0.4 in /Users/ryan_kim/Documents/programming/ds/data/lib/python3.8/site-packages (from okpy) (3.0.4)\n",
      "Requirement already satisfied: urllib3==1.25.7 in /Users/ryan_kim/Documents/programming/ds/data/lib/python3.8/site-packages (from okpy) (1.25.7)\n",
      "Requirement already satisfied: idna==2.8 in /Users/ryan_kim/Documents/programming/ds/data/lib/python3.8/site-packages (from okpy) (2.8)\n",
      "=====================================================================\n",
      "Assignment: hw1\n",
      "OK, version v1.18.1\n",
      "=====================================================================\n",
      "\n"
     ]
    }
   ],
   "source": [
    "!pip install -U okpy  # Uncomment if you have an error\n",
    "from client.api.notebook import Notebook\n",
    "ok = Notebook('hw1.ok')"
   ]
  },
  {
   "cell_type": "markdown",
   "metadata": {
    "nbgrader": {
     "grade": false,
     "grade_id": "title",
     "locked": true,
     "schema_version": 2,
     "solution": false
    }
   },
   "source": [
    "# HW 1: Math Review and Plotting\n",
    "## Due Date: Fri 3/26, 11:59 PM"
   ]
  },
  {
   "cell_type": "markdown",
   "metadata": {},
   "source": [
    "**Collaboration Policy:** You may talk with others about the homework, but we ask that you **write your solutions individually**. If you do discuss the assignments with others, please **include their names** in the following line.\n",
    "\n",
    "**Collaborators**: *list collaborators here (if applicable)*"
   ]
  },
  {
   "cell_type": "markdown",
   "metadata": {},
   "source": [
    "## This Assignment\n",
    "\n",
    "This homework is to help you diagnose your preparedness for the course. The rest of this course will assume familiarity with the programming and math concepts covered in this homework. Please consider reviewing prerequisite material if you struggle with this homework.\n",
    "\n",
    "## Score Breakdown\n",
    "Question | Points\n",
    "--- | ---\n",
    "1 | 1\n",
    "2a | 1\n",
    "2b | 1\n",
    "2c | 1\n",
    "2d | 1\n",
    "3a | 4\n",
    "3b | 2\n",
    "4a | 2\n",
    "4b | 2\n",
    "5 | 2\n",
    "6a | 2\n",
    "6b | 1\n",
    "6c | 1\n",
    "7 | 5\n",
    "Total | 30"
   ]
  },
  {
   "cell_type": "markdown",
   "metadata": {
    "nbgrader": {
     "grade": false,
     "grade_id": "jupyter-shortcuts",
     "locked": true,
     "schema_version": 2,
     "solution": false
    }
   },
   "source": [
    "Here are some useful Jupyter notebook keyboard shortcuts.  To learn more keyboard shortcuts, go to **Help -> Keyboard Shortcuts** in the menu above. \n",
    "\n",
    "Here are a few we like:\n",
    "1. `ctrl`+`return` : *Evaluate the current cell*\n",
    "1. `shift`+`return`: *Evaluate the current cell and move to the next*\n",
    "1. `esc` : *command mode* (may need to press before using any of the commands below)\n",
    "1. `a` : *create a cell above*\n",
    "1. `b` : *create a cell below*\n",
    "1. `dd` : *delete a cell*\n",
    "1. `m` : *convert a cell to markdown*\n",
    "1. `y` : *convert a cell to code*"
   ]
  },
  {
   "cell_type": "markdown",
   "metadata": {
    "nbgrader": {
     "grade": false,
     "grade_id": "testing-your-setup",
     "locked": true,
     "schema_version": 2,
     "solution": false
    }
   },
   "source": [
    "### Initialize your environment\n",
    "\n",
    "This cell should run without error if you have **set up your personal computer correctly**."
   ]
  },
  {
   "cell_type": "code",
   "execution_count": 3,
   "metadata": {
    "nbgrader": {
     "grade": false,
     "grade_id": "all-the-imports",
     "locked": true,
     "schema_version": 2,
     "solution": false
    }
   },
   "outputs": [],
   "source": [
    "import numpy as np\n",
    "import matplotlib\n",
    "%matplotlib inline\n",
    "import matplotlib.pyplot as plt\n",
    "plt.style.use('fivethirtyeight')\n",
    "\n",
    "from IPython.display import display, Latex, Markdown"
   ]
  },
  {
   "cell_type": "markdown",
   "metadata": {
    "nbgrader": {
     "grade": false,
     "grade_id": "question-1d",
     "locked": true,
     "schema_version": 2,
     "solution": false
    }
   },
   "source": [
    "<br/><br/><br/>\n",
    "<br/><br/><br/>\n",
    "<hr style=\"border: 5px solid #990000;\" />\n",
    "<hr style=\"border: 1px solid #dbbcac;\" />\n",
    "\n",
    "## Python\n",
    "### Question 1 (1 pt)\n",
    "Recall the formula for population variance below:\n",
    "\n",
    "$$\\texttt{Mean}({\\bf{x}}) = \\mu = \\frac{1}{N}\\sum_{i=1}^N x_i$$\n",
    "\n",
    "$$\\texttt{Var}({\\bf{x}}) = \\sigma^2 = \\frac{1}{N}\\sum_{i=1}^N (x_i - \\mu)^2$$\n",
    "\n",
    "Complete the functions below to compute the variance of `population`, an array of numbers. For this question, do not use built-in NumPy functions (i.e. `np.mean` and `np.var`); instead we will use NumPy to verify your code.\n",
    "\n",
    "<!--\n",
    "BEGIN QUESTION\n",
    "name: q1\n",
    "points: 1\n",
    "-->"
   ]
  },
  {
   "cell_type": "code",
   "execution_count": 4,
   "metadata": {
    "nbgrader": {
     "grade": false,
     "grade_id": "mean-variance",
     "locked": false,
     "schema_version": 2,
     "solution": true
    }
   },
   "outputs": [],
   "source": [
    "def mean(population):\n",
    "    \"\"\"\n",
    "    Compute the mean of population (mu).\n",
    "    \n",
    "    Args:\n",
    "        population: a numpy array of numbers of shape [N,]\n",
    "    Returns:\n",
    "        the mean of population (mu).\n",
    "    \"\"\"\n",
    "    # Calculate the mean of a population\n",
    "    # BEGIN YOUR CODE\n",
    "    # -----------------------\n",
    "    return sum(population) / len(population)\n",
    "    # -----------------------\n",
    "    # END YOUR CODE\n",
    "\n",
    "def variance(population):\n",
    "    \"\"\"\n",
    "    Compute the variance of population (sigma squared).\n",
    "    \n",
    "    Args:\n",
    "        population: a numpy array of numbers of shape [N,]\n",
    "    Returns:\n",
    "        the variance of population\n",
    "    \"\"\"\n",
    "    # Calculate the variance of a population\n",
    "    # BEGIN YOUR CODE\n",
    "    # -----------------------\n",
    "    mean = sum(population) / len(population)\n",
    "    variance_result = sum((num - mean) ** 2 for num in population) / len(population)\n",
    "    return variance_result\n",
    "    # -----------------------\n",
    "    # END YOUR CODE"
   ]
  },
  {
   "cell_type": "code",
   "execution_count": 5,
   "metadata": {},
   "outputs": [
    {
     "name": "stdout",
     "output_type": "stream",
     "text": [
      "~~~~~~~~~~~~~~~~~~~~~~~~~~~~~~~~~~~~~~~~~~~~~~~~~~~~~~~~~~~~~~~~~~~~~\n",
      "Running tests\n",
      "\n",
      "---------------------------------------------------------------------\n",
      "Test summary\n",
      "    Passed: 4\n",
      "    Failed: 0\n",
      "[ooooooooook] 100.0% passed\n",
      "\n"
     ]
    }
   ],
   "source": [
    "ok.grade(\"q1\");"
   ]
  },
  {
   "cell_type": "markdown",
   "metadata": {
    "nbgrader": {
     "grade": false,
     "grade_id": "numpy-and-tables",
     "locked": true,
     "schema_version": 2,
     "solution": false
    }
   },
   "source": [
    "---\n",
    "## NumPy\n",
    "\n",
    "You should be able to understand the code in the following cells. If not, please review the following:\n",
    "\n",
    "* [UC Berkeley DS100 NumPy Review](http://ds100.org/fa17/assets/notebooks/numpy/Numpy_Review.html)\n",
    "* [Stanford Condensed NumPy Review](http://cs231n.github.io/python-numpy-tutorial/#numpy)\n",
    "* [The Official NumPy Tutorial](https://docs.scipy.org/doc/numpy-dev/user/quickstart.html)\n",
    "* [UC Berkeley Data 8 Textbook Chapter on NumPy](https://www.inferentialthinking.com/chapters/05/1/Arrays)"
   ]
  },
  {
   "cell_type": "markdown",
   "metadata": {
    "nbgrader": {
     "grade": false,
     "grade_id": "jupyter-pro-tip",
     "locked": true,
     "schema_version": 2,
     "solution": false
    }
   },
   "source": [
    "**Jupyter pro-tip**: Pull up the docs for any function in Jupyter by running a cell with\n",
    "the function name and a `?` at the end:"
   ]
  },
  {
   "cell_type": "code",
   "execution_count": 6,
   "metadata": {
    "nbgrader": {
     "grade": false,
     "grade_id": "np-arange-huh",
     "locked": true,
     "schema_version": 2,
     "solution": false
    }
   },
   "outputs": [],
   "source": [
    "np.arange?"
   ]
  },
  {
   "cell_type": "markdown",
   "metadata": {
    "nbgrader": {
     "grade": false,
     "grade_id": "cell-61d40faa50614fbc",
     "locked": true,
     "schema_version": 2,
     "solution": false
    }
   },
   "source": [
    "You can close the window at the bottom by pressing `esc` several times. "
   ]
  },
  {
   "cell_type": "markdown",
   "metadata": {
    "nbgrader": {
     "grade": false,
     "grade_id": "jupyter-pro-tip-two",
     "locked": true,
     "schema_version": 2,
     "solution": false
    }
   },
   "source": [
    "**Another Jupyter pro-tip**: Pull up the docs for any function in Jupyter by typing the function\n",
    "name, then `<Shift>-<Tab>` on your keyboard. This is super convenient when you forget the order\n",
    "of the arguments to a function. You can press `<Tab>` multiple times to expand the docs and reveal additional information.\n",
    "\n",
    "Try it on the function below:"
   ]
  },
  {
   "cell_type": "code",
   "execution_count": 7,
   "metadata": {
    "scrolled": true
   },
   "outputs": [
    {
     "data": {
      "text/plain": [
       "<function numpy.linspace(start, stop, num=50, endpoint=True, retstep=False, dtype=None, axis=0)>"
      ]
     },
     "execution_count": 7,
     "metadata": {},
     "output_type": "execute_result"
    }
   ],
   "source": [
    "np.linspace"
   ]
  },
  {
   "cell_type": "markdown",
   "metadata": {},
   "source": [
    "Now, let's go through some linear algebra coding questions with NumPy. In this question, we'll ask you to use your linear algebra knowledge to fill in NumPy matrices. To conduct matrix multiplication in NumPy, you should write code like the following:"
   ]
  },
  {
   "cell_type": "code",
   "execution_count": 8,
   "metadata": {},
   "outputs": [
    {
     "data": {
      "text/plain": [
       "array([[ 76,  82],\n",
       "       [184, 199]])"
      ]
     },
     "execution_count": 8,
     "metadata": {},
     "output_type": "execute_result"
    }
   ],
   "source": [
    "# A matrix in NumPy is a 2-dimensional NumPy array\n",
    "matA = np.array([\n",
    "    [1, 2, 3],\n",
    "    [4, 5, 6],\n",
    "])\n",
    "\n",
    "matB = np.array([\n",
    "    [10, 11],\n",
    "    [12, 13],\n",
    "    [14, 15],\n",
    "])\n",
    "\n",
    "# The notation B @ v means: compute the matrix multiplication Bv\n",
    "matA @ matB"
   ]
  },
  {
   "cell_type": "markdown",
   "metadata": {},
   "source": [
    "You can also use the same syntax to do matrix-vector multiplication or vector dot products. Handy!"
   ]
  },
  {
   "cell_type": "code",
   "execution_count": 9,
   "metadata": {},
   "outputs": [
    {
     "name": "stdout",
     "output_type": "stream",
     "text": [
      "[ 76 184]\n",
      "760\n"
     ]
    }
   ],
   "source": [
    "matA = np.array([\n",
    "    [1, 2, 3],\n",
    "    [4, 5, 6],\n",
    "])\n",
    "\n",
    "# A vector in NumPy is simply a 1-dimensional NumPy array\n",
    "some_vec = np.array([ 10, 12, 14, ])\n",
    "another_vec = np.array([ 10, 20, 30 ])\n",
    "\n",
    "print(matA @ some_vec)\n",
    "print(some_vec @ another_vec)"
   ]
  },
  {
   "cell_type": "markdown",
   "metadata": {},
   "source": [
    "<br/><br/><br/>\n",
    "<br/><br/><br/>\n",
    "<hr style=\"border: 5px solid #990000;\" />\n",
    "<hr style=\"border: 1px solid #dbbcac;\" />\n",
    "\n",
    "## Question 2 (4 pt)\n",
    "### Question 2a\n",
    "\n",
    "Joey, Deb, and Sam are shopping for fruit at K-Bowl. K-Bowl, true to its name, only sells fruit bowls. A fruit bowl contains some fruit and the price of a fruit bowl is the total price of all of its individual fruit.\n",
    "\n",
    "Berkeley Bowl has apples for \\\\$2.00, bananas for \\\\$1.00, and cantaloupes for \\\\$4.00 (expensive!). The price of each of these can be written in a vector:\n",
    "\n",
    "$$\n",
    "v = \\begin{bmatrix}\n",
    "     2 \\\\\n",
    "     1 \\\\\n",
    "     4 \\\\\n",
    "\\end{bmatrix}\n",
    "$$\n",
    "\n",
    "K-Bowl sells the following fruit bowls:\n",
    "\n",
    "1. 2 of each fruit\n",
    "2. 5 apples and 8 bananas\n",
    "3. 2 bananas and 3 cantaloupes\n",
    "4. 10 cantaloupes\n",
    "\n",
    "Create a 2-dimensional numpy array encoding the matrix $B$ such that the matrix-vector multiplication\n",
    "\n",
    "$$\n",
    "Bv\n",
    "$$\n",
    "\n",
    "evaluates to a length 4 column vector containing the price of each fruit bowl. The first entry of the result should be the cost of fruit bowl #1, the second entry the cost of fruit bowl #2, etc.\n",
    "\n",
    "<!--\n",
    "BEGIN QUESTION\n",
    "name: q2a\n",
    "points: 1\n",
    "-->"
   ]
  },
  {
   "cell_type": "code",
   "execution_count": 10,
   "metadata": {},
   "outputs": [
    {
     "data": {
      "text/plain": [
       "array([14, 18, 14, 40])"
      ]
     },
     "execution_count": 10,
     "metadata": {},
     "output_type": "execute_result"
    }
   ],
   "source": [
    "v = np.array([2,1,4])\n",
    "\n",
    "# BEGIN YOUR CODE\n",
    "# -----------------------\n",
    "B = np.array([[2,2,2],[5,8,0], [0,2,3], [0,0,10]])\n",
    "# -----------------------\n",
    "# END YOUR CODE\n",
    "\n",
    "# The notation B @ v means: compute the matrix multiplication Bv\n",
    "B @ v"
   ]
  },
  {
   "cell_type": "code",
   "execution_count": 11,
   "metadata": {},
   "outputs": [
    {
     "name": "stdout",
     "output_type": "stream",
     "text": [
      "~~~~~~~~~~~~~~~~~~~~~~~~~~~~~~~~~~~~~~~~~~~~~~~~~~~~~~~~~~~~~~~~~~~~~\n",
      "Running tests\n",
      "\n",
      "---------------------------------------------------------------------\n",
      "Test summary\n",
      "    Passed: 2\n",
      "    Failed: 0\n",
      "[ooooooooook] 100.0% passed\n",
      "\n"
     ]
    }
   ],
   "source": [
    "ok.grade(\"q2a\");"
   ]
  },
  {
   "cell_type": "markdown",
   "metadata": {},
   "source": [
    "### Question 2b\n",
    "\n",
    "Joey, Deb, and Sam make the following purchases:\n",
    "\n",
    "- Joey buys 2 fruit bowl #1s and 1 fruit bowl #2.\n",
    "- Deb buys 1 of each fruit bowl.\n",
    "- Sam buys 10 fruit bowl #4s (he really like cantaloupes).\n",
    "\n",
    "Create a matrix $A$ such that the matrix expression\n",
    "\n",
    "$$\n",
    "ABv\n",
    "$$\n",
    "\n",
    "evaluates to a length 3 column vector containing how much each of them spent. The first entry of the result should be the total amount spent by Joey, the second entry the amount sent by Deb, etc.\n",
    "\n",
    "Note that the tests for this question do not tell you whether your answer is correct. That's up to you to determine.\n",
    "\n",
    "<!--\n",
    "BEGIN QUESTION\n",
    "name: q2b\n",
    "points: 1\n",
    "-->"
   ]
  },
  {
   "cell_type": "code",
   "execution_count": 12,
   "metadata": {},
   "outputs": [
    {
     "data": {
      "text/plain": [
       "array([ 46,  86, 400])"
      ]
     },
     "execution_count": 12,
     "metadata": {},
     "output_type": "execute_result"
    }
   ],
   "source": [
    "A = np.array([\n",
    "    [2, 1, 0, 0], # Joey\n",
    "    # Finish this!\n",
    "    # BEGIN YOUR CODE\n",
    "    # -----------------------\n",
    "    [1,1,1,1], # Deb\n",
    "    [0,0,0,10] # Sam\n",
    "    # -----------------------\n",
    "    # END YOUR CODE\n",
    "]) \n",
    "A @ B @ v "
   ]
  },
  {
   "cell_type": "code",
   "execution_count": 13,
   "metadata": {},
   "outputs": [
    {
     "name": "stdout",
     "output_type": "stream",
     "text": [
      "~~~~~~~~~~~~~~~~~~~~~~~~~~~~~~~~~~~~~~~~~~~~~~~~~~~~~~~~~~~~~~~~~~~~~\n",
      "Running tests\n",
      "\n",
      "---------------------------------------------------------------------\n",
      "Test summary\n",
      "    Passed: 2\n",
      "    Failed: 0\n",
      "[ooooooooook] 100.0% passed\n",
      "\n"
     ]
    }
   ],
   "source": [
    "ok.grade(\"q2b\");"
   ]
  },
  {
   "cell_type": "markdown",
   "metadata": {},
   "source": [
    "### Question 2c\n",
    "\n",
    "Who spent the most money? Assign `most` to a string containing the name of this person.\n",
    "\n",
    "<!--\n",
    "BEGIN QUESTION\n",
    "name: q2c\n",
    "points: 1\n",
    "-->"
   ]
  },
  {
   "cell_type": "code",
   "execution_count": 14,
   "metadata": {},
   "outputs": [],
   "source": [
    "# BEGIN YOUR CODE\n",
    "# -----------------------\n",
    "most = 'Sam' # assign String\n",
    "# -----------------------\n",
    "# END YOUR CODE"
   ]
  },
  {
   "cell_type": "code",
   "execution_count": 15,
   "metadata": {},
   "outputs": [
    {
     "name": "stdout",
     "output_type": "stream",
     "text": [
      "~~~~~~~~~~~~~~~~~~~~~~~~~~~~~~~~~~~~~~~~~~~~~~~~~~~~~~~~~~~~~~~~~~~~~\n",
      "Running tests\n",
      "\n",
      "---------------------------------------------------------------------\n",
      "Test summary\n",
      "    Passed: 2\n",
      "    Failed: 0\n",
      "[ooooooooook] 100.0% passed\n",
      "\n"
     ]
    }
   ],
   "source": [
    "ok.grade(\"q2c\");"
   ]
  },
  {
   "cell_type": "markdown",
   "metadata": {},
   "source": [
    "### Question 2d\n",
    "\n",
    "Let's suppose K-Bowl changes their fruit prices, but you don't know what they changed their prices to. Joey, Deb, and Sam buy the same quantity of fruit baskets and the number of fruit in each basket is the same, but now they each spent these amounts:\n",
    "\n",
    "$$\n",
    "x = \\begin{bmatrix}\n",
    "    80 \\\\\n",
    "    80 \\\\\n",
    "    100 \\\\\n",
    "\\end{bmatrix}\n",
    "$$\n",
    "\n",
    "Use `np.linalg.inv` and the above final costs to compute the new prices for the individual fruits as a vector called `new_v`.\n",
    "\n",
    "<!--\n",
    "BEGIN QUESTION\n",
    "name: q2d\n",
    "points: 1\n",
    "-->"
   ]
  },
  {
   "cell_type": "code",
   "execution_count": 16,
   "metadata": {},
   "outputs": [
    {
     "data": {
      "text/plain": [
       "array([5.5       , 2.20833333, 1.        ])"
      ]
     },
     "execution_count": 16,
     "metadata": {},
     "output_type": "execute_result"
    }
   ],
   "source": [
    "# BEGIN YOUR CODE\n",
    "# -----------------------\n",
    "new_v = np.linalg.inv(A@B) @ [80,80,100] # 이 코드가 왜 맞지?\n",
    "# -----------------------\n",
    "# END YOUR CODE\n",
    "new_v"
   ]
  },
  {
   "cell_type": "code",
   "execution_count": 17,
   "metadata": {},
   "outputs": [
    {
     "name": "stdout",
     "output_type": "stream",
     "text": [
      "~~~~~~~~~~~~~~~~~~~~~~~~~~~~~~~~~~~~~~~~~~~~~~~~~~~~~~~~~~~~~~~~~~~~~\n",
      "Running tests\n",
      "\n",
      "---------------------------------------------------------------------\n",
      "Test summary\n",
      "    Passed: 2\n",
      "    Failed: 0\n",
      "[ooooooooook] 100.0% passed\n",
      "\n"
     ]
    }
   ],
   "source": [
    "tmp = ok.grade(\"q2d\");"
   ]
  },
  {
   "cell_type": "markdown",
   "metadata": {
    "nbgrader": {
     "grade": false,
     "grade_id": "mv-calc",
     "locked": true,
     "schema_version": 2,
     "solution": false
    }
   },
   "source": [
    "---\n",
    "## Multivariable Calculus, Linear Algebra, and Probability\n",
    "\n",
    "The following questions ask you to recall your knowledge of multivariable calculus, linear algebra, and probability. We will use some of the most fundamental concepts from each discipline in this class, so the following problems should at least seem familiar to you.\n",
    "\n",
    "If you have trouble with these topics, we suggest reviewing:\n",
    "\n",
    "- [Khan Academy's Multivariable Calculus](https://www.khanacademy.org/math/multivariable-calculus)\n",
    "- [Khan Academy's Linear Algebra](https://www.khanacademy.org/math/linear-algebra)\n",
    "- [Khan Academy's Statistics and Probability](https://www.khanacademy.org/math/statistics-probability)\n",
    "\n",
    "\n",
    "#### LaTeX\n",
    "\n",
    "For the following problems, you should use LaTeX to format your answer. If you aren't familiar with LaTeX, not to worry. It's not hard to use in a Jupyter notebook. Just place your math in between dollar signs:\n",
    "\n",
    "\\\\$ f(x) = 2x \\\\$ becomes $ f(x) = 2x $.\n",
    "\n",
    "If you have a longer equation, use double dollar signs to place it on a line by itself:\n",
    "\n",
    "\\\\$\\\\$ \\sum_{i=0}^n i^2 \\\\$\\\\$ becomes:\n",
    "\n",
    "$$ \\sum_{i=0}^n i^2 $$.\n",
    "\n",
    "Here is some handy notation:\n",
    "\n",
    "| Output | Latex   |\n",
    "|:---|:---|\n",
    "| $$x^{a + b}$$  | `x^{a + b}` |\n",
    "| $$x_{a + b}$$ | `x_{a + b}` |\n",
    "| $$\\frac{a}{b}$$ | `\\frac{a}{b}` |\n",
    "| $$\\sqrt{a + b}$$ | `\\sqrt{a + b}` |\n",
    "| $$\\{ \\alpha, \\beta, \\gamma, \\pi, \\mu, \\sigma^2  \\}$$ | `\\{ \\alpha, \\beta, \\gamma, \\pi, \\mu, \\sigma^2  \\}` |\n",
    "| $$\\sum_{x=1}^{100}$$ | `\\sum_{x=1}^{100}` |\n",
    "| $$\\frac{\\partial}{\\partial x} $$ | `\\frac{\\partial}{\\partial x} ` |\n",
    "| $$\\begin{bmatrix} 2x + 4y \\\\ 4x + 6y^2 \\\\ \\end{bmatrix}$$ | `\\begin{bmatrix} 2x + 4y \\\\ 4x + 6y^2 \\\\ \\end{bmatrix}`|\n",
    "\n",
    "\n",
    "\n",
    "[For more about basic LaTeX formatting, you can read this article.](https://www.sharelatex.com/learn/Mathematical_expressions)"
   ]
  },
  {
   "cell_type": "markdown",
   "metadata": {
    "nbgrader": {
     "grade": false,
     "grade_id": "question-4c-x",
     "locked": true,
     "schema_version": 2,
     "solution": false
    },
    "tags": [
     "written"
    ]
   },
   "source": [
    "<br/><br/><br/>\n",
    "<br/><br/><br/>\n",
    "<hr style=\"border: 5px solid #990000;\" />\n",
    "<hr style=\"border: 1px solid #dbbcac;\" />\n",
    "\n",
    "### Question 3a (4 pt)\n",
    "\n",
    "Suppose we have the following scalar-valued function:\n",
    "\n",
    "$$ f(x, y) = x^2 + 4xy + 2y^3 + e^{-3y} + \\ln(2y) $$\n",
    "\n",
    "Compute the partial derivative $\\frac{\\partial}{\\partial x} f(x,y)$: `번역하면 편미분`\n",
    "\n",
    "<!--\n",
    "BEGIN QUESTION\n",
    "name: q4ai\n",
    "manual: true\n",
    "points: 1\n",
    "-->\n",
    "<!-- EXPORT TO PDF -->"
   ]
  },
  {
   "cell_type": "markdown",
   "metadata": {},
   "source": [
    "**Answer**:  $\\frac{\\partial}{\\partial x} f(x,y)$ = $ 2x + 4y $ "
   ]
  },
  {
   "cell_type": "markdown",
   "metadata": {
    "nbgrader": {
     "grade": false,
     "grade_id": "question4c-y",
     "locked": true,
     "schema_version": 2,
     "solution": false
    },
    "tags": [
     "written"
    ]
   },
   "source": [
    "Now compute the partial derivative $\\frac{\\partial}{\\partial y} f(x,y)$: \n",
    "\n",
    "`참고 : ` \n",
    "1. $ \\frac{\\partial}{\\partial x} e^{x} = e^{x} $ \n",
    "2. $ \\frac{\\partial}{\\partial x} e^{ax} = ae^{ax} $\n",
    "\n",
    "<!--\n",
    "BEGIN QUESTION\n",
    "name: q4aii\n",
    "manual: true\n",
    "points: 1\n",
    "-->\n",
    "<!-- EXPORT TO PDF -->"
   ]
  },
  {
   "cell_type": "markdown",
   "metadata": {},
   "source": [
    "**Answer**: $\\frac{\\partial}{\\partial y} f(x,y)$ = $ 4x + 6y -3e^{-3y} + \\frac{1}{y} $"
   ]
  },
  {
   "cell_type": "markdown",
   "metadata": {},
   "source": [
    "Finally, using your answers to the above two parts, compute $\\nabla f(x, y)$. Also what is the gradient at the point (x, y) = (2, -1):\n",
    "\n",
    "Note that $\\nabla$ represents the gradient.\n",
    "\n",
    "<!--\n",
    "BEGIN QUESTION\n",
    "name: q4aiii\n",
    "manual: true\n",
    "points: 1\n",
    "-->\n",
    "<!-- EXPORT TO PDF -->"
   ]
  },
  {
   "cell_type": "markdown",
   "metadata": {},
   "source": [
    "`gradient가 2개의 합은 아니다. x방향의 기울기와 y방향의 기울기가 튜플 형태다`\n",
    "\n",
    "$\\nabla f(x, y)$ = ($\\frac{\\partial}{\\partial x} f(x,y)$, $\\frac{\\partial}{\\partial y} f(x,y)$) <br><br>\n",
    "$\\nabla f(x, y)$ = ($\\frac{\\partial}{\\partial x} f(2,-1)$, $\\frac{\\partial}{\\partial y} f(2,-1)$) <br><br>\n",
    "**Answer**: $\\nabla f(x, y)$ = $ (0,1-3e^{3}) $"
   ]
  },
  {
   "cell_type": "markdown",
   "metadata": {
    "nbgrader": {
     "grade": false,
     "grade_id": "question-4d",
     "locked": true,
     "schema_version": 2,
     "solution": false
    }
   },
   "source": [
    "### Question 3b (2 pt)\n",
    "\n",
    "Find the value(s) of $x$ which minimizes the expression below. Justify why it is the minimum.\n",
    "\n",
    "$\\sum_{i=1}^{10} (i - x)^2$\n",
    "\n",
    "<!--\n",
    "BEGIN QUESTION\n",
    "name: q4b\n",
    "manual: true\n",
    "points: 2\n",
    "-->\n",
    "<!-- EXPORT TO PDF -->"
   ]
  },
  {
   "cell_type": "markdown",
   "metadata": {},
   "source": [
    "According to Specify the formula above, I can see a quadratic formula below.\n",
    "\n",
    "- $\\sum_{i=1}^{10} (i - x)^2$ = $ 10x^{2} - 110x + 385 $\n",
    "\n",
    "### Solution 1 : Use Matplotlib & Scipy\n",
    "\n",
    "If you draw a graph using matplotlib according to the given quadratic function, it is created in the form below."
   ]
  },
  {
   "cell_type": "code",
   "execution_count": 18,
   "metadata": {
    "scrolled": true
   },
   "outputs": [
    {
     "data": {
      "image/png": "[encoded data removed]",
      "text/plain": [
       "<Figure size 432x288 with 1 Axes>"
      ]
     },
     "metadata": {},
     "output_type": "display_data"
    }
   ],
   "source": [
    "x= np.arange(0, 15)\n",
    "y = 10 * (x**2) - (110 * x) + 385\n",
    "plt.plot(x,y)\n",
    "plt.show()"
   ]
  },
  {
   "cell_type": "markdown",
   "metadata": {},
   "source": [
    "As you can see, the minimum value of x in this function is between 4 and 6. However, We still have no idea the minimum value of x in the function. So, we can use `Scipy` and find the minimum x."
   ]
  },
  {
   "cell_type": "code",
   "execution_count": 19,
   "metadata": {},
   "outputs": [
    {
     "name": "stdout",
     "output_type": "stream",
     "text": [
      "x: 5.500000081409997, y: 82.50000000000006\n"
     ]
    }
   ],
   "source": [
    "from scipy.optimize import minimize_scalar\n",
    "def minimize_x(x):\n",
    "  return 10 * (x**2) - (110 * x) + 385\n",
    "res = minimize_scalar(minimize_x)\n",
    "opt_x, opt_y = res.x, res.fun\n",
    "print('x: {}, y: {}'.format(opt_x, opt_y))"
   ]
  },
  {
   "cell_type": "markdown",
   "metadata": {},
   "source": [
    "Therefore, we can find `the minimum value of x is approximately 5.5`"
   ]
  },
  {
   "cell_type": "markdown",
   "metadata": {},
   "source": [
    "### Solution 2 : Use Gradient\n",
    "\n",
    "we can use gradient from `Q3a` solution <br>\n",
    "\n",
    "- $f(x, y) = 10x^{2} - 110x + 385 $ <br><br>\n",
    "- $\\frac{\\partial}{\\partial x} f(x,y)$ = $ 20x - 110 $ <br><br>\n",
    "\n",
    "According to the formula above, `the minimum value of x is 5.5` (Because 5.5 makes the gradient 0)\n",
    "\n",
    "`Answer: x = 5.5`"
   ]
  },
  {
   "cell_type": "markdown",
   "metadata": {
    "nbgrader": {
     "grade": false,
     "grade_id": "question-4e",
     "locked": true,
     "schema_version": 2,
     "solution": false
    }
   },
   "source": [
    "<br/><br/><br/>\n",
    "<br/><br/><br/>\n",
    "<hr style=\"border: 5px solid #990000;\" />\n",
    "<hr style=\"border: 1px solid #dbbcac;\" />\n",
    "\n",
    "\n",
    "### Question 4a (2 pt)\n",
    "Let $\\sigma(x) = \\dfrac{1}{1+e^{-x}}$. `시그모이드 함수`\n",
    "\n",
    "Show that $\\sigma(-x) = 1 - \\sigma(x)$.\n",
    "\n",
    "<!--\n",
    "BEGIN QUESTION\n",
    "name: q4c\n",
    "manual: true\n",
    "points: 2\n",
    "-->\n",
    "<!-- EXPORT TO PDF -->"
   ]
  },
  {
   "cell_type": "markdown",
   "metadata": {},
   "source": [
    "Answer: <br><br>\n",
    "1. $ \\sigma(x) = \\dfrac{e^{x}}{e^{x}+1} $ <br><br>\n",
    "2. $ \\sigma(x) = \\dfrac{e^{x} + 1 - 1}{e^{x}+1} $ <br><br>\n",
    "3. $ \\sigma(x) = \\dfrac{e^{x} + 1}{e^{x}+1} - \\dfrac{1}{e^{x}+1} $ <br><br>\n",
    "4. $ \\sigma(x) = 1 - \\sigma(-x) $ <br><br>\n",
    "5. Therefore, $ \\sigma(-x)= 1 - \\sigma(x) $ <br><br>"
   ]
  },
  {
   "cell_type": "markdown",
   "metadata": {
    "nbgrader": {
     "grade": false,
     "grade_id": "question-4e-b",
     "locked": true,
     "schema_version": 2,
     "solution": false
    }
   },
   "source": [
    "### Question 4b (2 pt)\n",
    "Show that the derivative can be written as:\n",
    "\n",
    "$$\\frac{d}{dx}\\sigma(x) = \\sigma(x)(1 - \\sigma(x))$$\n",
    "\n",
    "<!--\n",
    "BEGIN QUESTION\n",
    "name: q4d\n",
    "manual: true\n",
    "points: 2\n",
    "-->\n",
    "<!-- EXPORT TO PDF -->"
   ]
  },
  {
   "cell_type": "markdown",
   "metadata": {},
   "source": [
    "Answer: <br>\n",
    "1. $ \\frac{\\partial}{\\partial x}\\sigma(x) = \\frac{\\partial}{\\partial x}\\dfrac{1}{1+e^{-x}} $ <br>\n",
    "\n",
    "2. $                                      = \\dfrac{e^{-x}}{(1+e^{-x})^{2}} $ <br><br>\n",
    "3. $                                      = \\dfrac{1}{1+e^{-x}} . \\dfrac{e^{-x}}{1+e^{-x}} $ <br><br>\n",
    "4. Therefore, $ \\frac{\\partial}{\\partial x}\\sigma(x) = \\sigma(x)(1 - \\sigma(x))$"
   ]
  },
  {
   "cell_type": "markdown",
   "metadata": {
    "nbgrader": {
     "grade": false,
     "grade_id": "question-4h",
     "locked": true,
     "schema_version": 2,
     "solution": false
    }
   },
   "source": [
    "<br/><br/><br/>\n",
    "<br/><br/><br/>\n",
    "<hr style=\"border: 5px solid #990000;\" />\n",
    "<hr style=\"border: 1px solid #dbbcac;\" />\n",
    "\n",
    "### Question 5 (2 pt)\n",
    "\n",
    "Consider the following scenario:\n",
    "\n",
    "Only 1% of 40-year-old women who participate in a routine mammography test have breast cancer. 80% of women who have breast cancer will test positive, but 9.6% of women who don’t have breast cancer will also get positive tests. \n",
    "\n",
    "Suppose we know that a woman of this age tested positive in a routine screening. What is the probability that she actually has breast cancer?\n",
    "\n",
    "**Hint:** Use Bayes' rule.\n",
    "\n",
    "<!--\n",
    "BEGIN QUESTION\n",
    "name: q5\n",
    "manual: true\n",
    "points: 2\n",
    "-->\n",
    "<!-- EXPORT TO PDF -->"
   ]
  },
  {
   "cell_type": "markdown",
   "metadata": {},
   "source": [
    "Answer: `Approximately 7.7% or 7.8%`\n",
    "\n",
    "`Explanation` <br>\n",
    "1. 40-year-old women who have breast cancer with test positive\n",
    "<br> $ P(BC-O | Po) = 0.8 $\n",
    "2. 40-year-old women who have `NOT` breast cancer with test positive\n",
    "<br> $ P(BC-X | Po) = 0.096 $\n",
    "3. 1% of 40-year-old women who have breast cancer\n",
    "<br> $P(40-b-Cancer) = 0.01 $\n",
    "4. The other of 40-year-old women who have `NOT` breast cancer\n",
    "<br> $ P(40-NOT-b-Cancer) = 0.99 $ \n",
    "5. $ P(Positive) = P(40-b-Cancer) * P(BC-O | Po) + P(40-NOT-b-Cancer) * P(BC-X | Po) $ <br>\n",
    "6. `About 10.3% of 40-year-old women will test positive`\n",
    "<br> $ P(Positive) = 0.01 * 0.8 + 0.99 * 0.096 = 0.1034 $ \n",
    "7. 40-year-old women who has breast cancer among the test result, positive\n",
    "<br> $ P(Po|BC-O) = P(40-b-Cancer) * P(BC-O | Po) / P(Positive) $ \n",
    "8. The Answer\n",
    "<br> $ P(Po|BC-O) = 0.008 / 0.1034 $ = `0.077369...(Approximately 7.7%)`\n",
    "\n",
    "*Appendix* <br>\n",
    "- If I calculate 0.1034 to 0.103 (round) then the result will be `0.776699...(Approximately 7.8%)`"
   ]
  },
  {
   "cell_type": "markdown",
   "metadata": {},
   "source": [
    "<br/><br/><br/>\n",
    "<br/><br/><br/>\n",
    "<hr style=\"border: 5px solid #990000;\" />\n",
    "<hr style=\"border: 1px solid #dbbcac;\" />\n",
    "\n",
    "### Question 6\n",
    "\n",
    "Consider (once again) a sample of size n drawn at random with replacement from a population in which a proportion p of the individuals are called successes.\n",
    "\n",
    "Let S be the random variable that denotes the number of successes in our sample. (As stated above, S follows the binomial distribution.) Then, the probability that the number of successes in our sample is **at most** s (where $0 \\leq s \\leq n$) is\n",
    "\n",
    "$$P(S \\leq s) = P(S = 0) + P(S = 1) + ... + P(S = s) = \\sum_{k=0}^s \\binom{n}{k}p^k(1-p)^{n-k}$$\n",
    "\n",
    "We obtain this by summing the probability that the number of successes is exactly k, for each value of $k = 0, 1, 2, ..., s$."
   ]
  },
  {
   "cell_type": "markdown",
   "metadata": {},
   "source": [
    "### Question 6a (2pt)\n",
    "\n",
    "Please fill in the function `prob_at_most` which takes n, p, and s and returns $P(S \\le s)$ as defined above. If the inputs are invalid: for instance, if p > 1 or s > n then return 0.\" \n",
    "\n",
    "**Hint**: One way to compute the binomial coefficients is to use SciPy module, which is a collection of Python-based software for math, probability, statistics, science, and enginnering. Feel free to use [scipy.special.comb](https://docs.scipy.org/doc/scipy/reference/generated/scipy.special.comb.html#scipy.special.comb)**\n",
    "\n",
    "<!--\n",
    "BEGIN QUESTION\n",
    "name: q6a\n",
    "manual: false\n",
    "points: 1\n",
    "-->"
   ]
  },
  {
   "cell_type": "code",
   "execution_count": 20,
   "metadata": {},
   "outputs": [],
   "source": [
    "from scipy import special\n",
    "def prob_at_most(n, p, s):\n",
    "    \"\"\" \n",
    "    returns the probability of S <= s\n",
    "    Input n: sample size; p : proportion; s: number of successes at most\n",
    "    \"\"\"\n",
    "    # BEGIN YOUR CODE\n",
    "    # -----------------------\n",
    "    if p > 1 or s > n: # If the inputs are invalid: for instance, if p > 1 or s > n then return 0.\"\n",
    "        return 0\n",
    "    \n",
    "    rep = 1-p # replacement of 1-p in sigma\n",
    "    k_list = range(0,s+1) # sigma range\n",
    "    result = 0\n",
    "    for k in k_list:\n",
    "        result += (special.comb(n,k) * (p**k)*(rep**(n-k)))\n",
    "    return result\n",
    "    # -----------------------\n",
    "    # END YOUR CODE"
   ]
  },
  {
   "cell_type": "code",
   "execution_count": 21,
   "metadata": {},
   "outputs": [
    {
     "name": "stdout",
     "output_type": "stream",
     "text": [
      "~~~~~~~~~~~~~~~~~~~~~~~~~~~~~~~~~~~~~~~~~~~~~~~~~~~~~~~~~~~~~~~~~~~~~\n",
      "Running tests\n",
      "\n",
      "---------------------------------------------------------------------\n",
      "Test summary\n",
      "    Passed: 3\n",
      "    Failed: 0\n",
      "[ooooooooook] 100.0% passed\n",
      "\n"
     ]
    }
   ],
   "source": [
    "ok.grade(\"q6a\");"
   ]
  },
  {
   "cell_type": "markdown",
   "metadata": {},
   "source": [
    "### Question 6b (1pt)\n",
    "\n",
    "In an election, supporters of Candidate C are in a minority. Only 45% of the voters in the population favor the candidate.\n",
    "\n",
    "Suppose a survey organization takes a sample of 200 voters at random with replacement from this population. Use `prob_at_most` to write an expression that evaluates to the chance that a majority (more than half) of the sampled voters favor Candidate C.\n",
    "\n",
    "<!--\n",
    "BEGIN QUESTION\n",
    "name: q6b\n",
    "manual: false\n",
    "points: 1\n",
    "-->"
   ]
  },
  {
   "cell_type": "code",
   "execution_count": 22,
   "metadata": {},
   "outputs": [
    {
     "data": {
      "text/plain": [
       "0.9486329671752122"
      ]
     },
     "execution_count": 22,
     "metadata": {},
     "output_type": "execute_result"
    }
   ],
   "source": [
    "# BEGIN YOUR CODE\n",
    "# -----------------------\n",
    "p_majority = prob_at_most(200,0.45,101)\n",
    "p_majority\n",
    "# -----------------------\n",
    "# END YOUR CODE"
   ]
  },
  {
   "cell_type": "code",
   "execution_count": 23,
   "metadata": {},
   "outputs": [
    {
     "name": "stdout",
     "output_type": "stream",
     "text": [
      "~~~~~~~~~~~~~~~~~~~~~~~~~~~~~~~~~~~~~~~~~~~~~~~~~~~~~~~~~~~~~~~~~~~~~\n",
      "Running tests\n",
      "\n",
      "---------------------------------------------------------------------\n",
      "Test summary\n",
      "    Passed: 1\n",
      "    Failed: 0\n",
      "[ooooooooook] 100.0% passed\n",
      "\n"
     ]
    }
   ],
   "source": [
    "ok.grade(\"q6b\");"
   ]
  },
  {
   "cell_type": "markdown",
   "metadata": {},
   "source": [
    "### Question 6c (1pt)\n",
    "\n",
    "Suppose each of five survey organizations takes a sample of voters at random with replacement from the population of voters in Part **b**, independently of the samples drawn by the other organizations. \n",
    "\n",
    "- Three of the organizations use a sample size of 200\n",
    "- One organization uses a sample size of 300\n",
    "- One organization uses a sample size of 400\n",
    "\n",
    "Write an expression that evaluates to the chance that in at least one of the five samples the majority of voters favor Candidate C. You can use any quantity or function defined earlier in this exercise.\n",
    "\n",
    "<!--\n",
    "BEGIN QUESTION\n",
    "name: q6c\n",
    "manual: false\n",
    "points: 2\n",
    "-->"
   ]
  },
  {
   "cell_type": "code",
   "execution_count": 134,
   "metadata": {},
   "outputs": [],
   "source": [
    "# BEGIN YOUR CODE\n",
    "# -----------------------\n",
    "prob_6c = ...\n",
    "# -----------------------\n",
    "# END YOUR CODE"
   ]
  },
  {
   "cell_type": "code",
   "execution_count": 38,
   "metadata": {},
   "outputs": [
    {
     "name": "stdout",
     "output_type": "stream",
     "text": [
      "~~~~~~~~~~~~~~~~~~~~~~~~~~~~~~~~~~~~~~~~~~~~~~~~~~~~~~~~~~~~~~~~~~~~~\n",
      "Running tests\n",
      "\n",
      "---------------------------------------------------------------------\n",
      "q6c > Suite 1 > Case 1\n",
      "\n",
      ">>> prob_6c >= 0 and prob_6c <= 1\n",
      "TypeError: '>=' not supported between instances of 'list' and 'int'\n",
      "\n",
      "# Error: expected\n",
      "#     True\n",
      "# but got\n",
      "#     Traceback (most recent call last):\n",
      "#       ...\n",
      "#     TypeError: '>=' not supported between instances of 'list' and 'int'\n",
      "\n",
      "Run only this test case with \"python3 ok -q q6c --suite 1 --case 1\"\n",
      "---------------------------------------------------------------------\n",
      "Test summary\n",
      "    Passed: 0\n",
      "    Failed: 1\n",
      "[k..........] 0.0% passed\n",
      "\n"
     ]
    }
   ],
   "source": [
    "ok.grade(\"q6c\");"
   ]
  },
  {
   "cell_type": "markdown",
   "metadata": {},
   "source": [
    "<br/><br/><br/>\n",
    "<br/><br/><br/>\n",
    "<hr style=\"border: 5px solid #990000;\" />\n",
    "<hr style=\"border: 1px solid #dbbcac;\" />\n",
    "\n",
    "\n",
    "## The US Presidential Election\n",
    "\n",
    "The US president is chosen by the Electoral College, not by the\n",
    "popular vote. Each state is alotted a certain number of \n",
    "electoral college votes, as a function of their population.\n",
    "Whomever wins in the state gets all of the electoral college votes for that state.\n",
    "\n",
    "There are 538 electoral college votes (hence the name of the Nate Silver's site, FiveThirtyEight).\n",
    "\n",
    "Pollsters correctly predicted the election outcome in 46 of the 50 states. \n",
    "For these 46 states Trump received 231 and Clinton received 232 electoral college votes.\n",
    "\n",
    "The remaining 4 states accounted for a total of 75 votes, and \n",
    "whichever candidate received the majority of the electoral college votes in these states would win the election. \n",
    "\n",
    "These states were Florida, Michigan, Pennsylvania, and Wisconsin.\n",
    "\n",
    "|State |Electoral College Votes|\n",
    "| --- | --- |\n",
    "|Florida | 29 |\n",
    "|Michigan | 16 |\n",
    "|Pennsylvania | 20 |\n",
    "|Wisconsin | 10|\n",
    "\n",
    "For Donald Trump to win the election, he had to win either:\n",
    "* Florida + one (or more) other states\n",
    "* Michigan, Pennsylvania, and Wisconsin\n",
    "\n",
    "\n",
    "The electoral margins were very narrow in these four states, as seen below:\n",
    "\n",
    "\n",
    "|State | Trump |   Clinton | Total Voters |\n",
    "| --- | --- |  --- |  --- |\n",
    "|Florida | 49.02 | 47.82 | 9,419,886  | \n",
    "|Michigan | 47.50 | 47.27  |  4,799,284|\n",
    "|Pennsylvania | 48.18 | 47.46 |  6,165,478|\n",
    "|Wisconsin | 47.22 | 46.45  |  2,976,150|\n",
    "\n",
    "Those narrow electoral margins can make it hard to predict the outcome given the sample sizes that the polls used. "
   ]
  },
  {
   "cell_type": "markdown",
   "metadata": {},
   "source": [
    "### Question 7a (1pt)\n",
    "\n",
    "For your convenience, the results of the vote in the four pivotal states is repeated below:\n",
    "\n",
    "|State | Trump |   Clinton | Total Voters |\n",
    "| --- | --- |  --- |  --- |\n",
    "|Florida | 49.02 | 47.82 | 9,419,886  | \n",
    "|Michigan | 47.50 | 47.27  |  4,799,284|\n",
    "|Pennsylvania | 48.18 | 47.46 |  6,165,478|\n",
    "|Wisconsin | 47.22 | 46.45  |  2,976,150|\n",
    "\n",
    "\n",
    "Using the table above, write a function `draw_state_sample(N, state)` that returns a sample with replacement of N voters from the given state. Your result should be returned as a list, where the first element is the number of Trump votes, the second element is the number of Clinton votes, and the third is the number of Other votes. For example, `draw_state_sample(1500, \"florida\")` could return `[727, 692, 81]`. You may assume that the state name is given in all lower case.\n",
    "\n",
    "You might find `np.random.multinomial` useful.\n",
    "\n",
    "<!--\n",
    "BEGIN QUESTION\n",
    "name: q6a\n",
    "points: 2\n",
    "-->"
   ]
  },
  {
   "cell_type": "code",
   "execution_count": 27,
   "metadata": {},
   "outputs": [],
   "source": [
    "def draw_state_sample(N, state):\n",
    "    # BEGIN YOUR CODE\n",
    "    # -----------------------\n",
    "    election_sample = {'florida': [0.4902,0.4782,0.0316], # \"state\": [Trump, Clinton, others]\n",
    "                       \"michigan\":[0.4750,0.4727,0.0523], \n",
    "                       'pennsylvania':[0.4818,0.4746,0.0436],\n",
    "                       \"wisconsin\":[0.4722,0.4645,0.0633]\n",
    "                      }\n",
    "    drawing_sample = np.random.multinomial(N,election_sample[state])\n",
    "    return  drawing_sample\n",
    "    # -----------------------\n",
    "    # END YOUR CODE"
   ]
  },
  {
   "cell_type": "code",
   "execution_count": 28,
   "metadata": {},
   "outputs": [
    {
     "name": "stdout",
     "output_type": "stream",
     "text": [
      "~~~~~~~~~~~~~~~~~~~~~~~~~~~~~~~~~~~~~~~~~~~~~~~~~~~~~~~~~~~~~~~~~~~~~\n",
      "Running tests\n",
      "\n",
      "---------------------------------------------------------------------\n",
      "Test summary\n",
      "    Passed: 2\n",
      "    Failed: 0\n",
      "[ooooooooook] 100.0% passed\n",
      "\n"
     ]
    }
   ],
   "source": [
    "ok.grade(\"q7a\");"
   ]
  },
  {
   "cell_type": "markdown",
   "metadata": {},
   "source": [
    "### Question 7b (1pt)\n",
    "\n",
    "Now, create a function `trump_advantage` that takes in a sample of votes (like the one returned by `draw_state_sample`) and returns the difference in the proportion of votes between Trump and Clinton. For example `trump_advantage([100, 60, 40])` would return `0.2`, since Trump had 50% of the votes in this sample and Clinton had 30%.\n",
    "\n",
    "<!--\n",
    "BEGIN QUESTION\n",
    "name: q6b\n",
    "points: 1\n",
    "-->"
   ]
  },
  {
   "cell_type": "code",
   "execution_count": 29,
   "metadata": {},
   "outputs": [],
   "source": [
    "def trump_advantage(voter_sample):\n",
    "    # BEGIN YOUR CODE\n",
    "    # -----------------------\n",
    "    trump_rate = voter_sample[0] / sum(voter_sample)\n",
    "    clinton_rate = voter_sample[1] / sum(voter_sample)\n",
    "    return trump_rate - clinton_rate\n",
    "    # -----------------------\n",
    "    # END YOUR CODE"
   ]
  },
  {
   "cell_type": "code",
   "execution_count": 30,
   "metadata": {},
   "outputs": [
    {
     "name": "stdout",
     "output_type": "stream",
     "text": [
      "~~~~~~~~~~~~~~~~~~~~~~~~~~~~~~~~~~~~~~~~~~~~~~~~~~~~~~~~~~~~~~~~~~~~~\n",
      "Running tests\n",
      "\n",
      "---------------------------------------------------------------------\n",
      "Test summary\n",
      "    Passed: 1\n",
      "    Failed: 0\n",
      "[ooooooooook] 100.0% passed\n",
      "\n"
     ]
    }
   ],
   "source": [
    "ok.grade(\"q7b\");"
   ]
  },
  {
   "cell_type": "markdown",
   "metadata": {},
   "source": [
    "### Question 7c (1pt)\n",
    "\n",
    "Simulate Trump's advantage across 100,000 samples of 1500 voters for the state of Pennsylvania and store the results of each simulation in a list called `simulations`. \n",
    "\n",
    "That is, `simulations[i]` should be Trump's proportion advantage for the `i+1`th simple random sample.\n",
    "\n",
    "<!--\n",
    "BEGIN QUESTION\n",
    "name: q6c\n",
    "points: 1\n",
    "-->"
   ]
  },
  {
   "cell_type": "code",
   "execution_count": 31,
   "metadata": {},
   "outputs": [],
   "source": [
    "# BEGIN YOUR CODE\n",
    "# -----------------------\n",
    "samples = [draw_state_sample(1500, \"pennsylvania\") for i in range(100000)]\n",
    "simulations = [trump_advantage(sample) for sample in samples]\n",
    "# -----------------------\n",
    "# END YOUR CODE"
   ]
  },
  {
   "cell_type": "code",
   "execution_count": 32,
   "metadata": {},
   "outputs": [
    {
     "name": "stdout",
     "output_type": "stream",
     "text": [
      "~~~~~~~~~~~~~~~~~~~~~~~~~~~~~~~~~~~~~~~~~~~~~~~~~~~~~~~~~~~~~~~~~~~~~\n",
      "Running tests\n",
      "\n",
      "---------------------------------------------------------------------\n",
      "Test summary\n",
      "    Passed: 1\n",
      "    Failed: 0\n",
      "[ooooooooook] 100.0% passed\n",
      "\n"
     ]
    }
   ],
   "source": [
    "ok.grade(\"q7c\");"
   ]
  },
  {
   "cell_type": "markdown",
   "metadata": {},
   "source": [
    "<!-- END QUESTION -->\n",
    "\n",
    "### Question 7d (1pt)\n",
    "\n",
    "Now write a function `trump_wins(N)` that creates a sample of N voters for each of the four crucial states (Florida, Michigan, Pennsylvania, and Wisconsin) and returns 1 if Trump is predicted to win based on these samples and 0 if Trump is predicted to lose.\n",
    "\n",
    "Recall that for Trump to win the election, he must either:\n",
    "* Win the state of Florida and 1 or more other states\n",
    "* Win Michigan, Pennsylvania, and Wisconsin\n",
    "\n",
    "<!--\n",
    "BEGIN QUESTION\n",
    "name: q6e\n",
    "manual: false\n",
    "points: 2\n",
    "-->"
   ]
  },
  {
   "cell_type": "code",
   "execution_count": 42,
   "metadata": {},
   "outputs": [
    {
     "name": "stdout",
     "output_type": "stream",
     "text": [
      "[-0.010666666666666658, 0.05666666666666664, 0.010666666666666713, 0.05666666666666664]\n"
     ]
    },
    {
     "data": {
      "text/plain": [
       "1"
      ]
     },
     "execution_count": 42,
     "metadata": {},
     "output_type": "execute_result"
    }
   ],
   "source": [
    "def trump_wins(N):\n",
    "    # BEGIN YOUR CODE\n",
    "    # -----------------------\n",
    "    states = [\"florida\",\"michigan\", \"pennsylvania\",\"wisconsin\"] # key for draw_state_sample function\n",
    "    states_sample = [draw_state_sample(N,state) for state in states] # draw sample of each states\n",
    "    state_proportion = [trump_advantage(sample) for sample in states_sample] # find trump proportion for each states\n",
    "    print(state_proportion)\n",
    "    if state_proportion[0] > 0 and min(state_proportion[1:]) > 0: # state_proportion[0] -> florida\n",
    "        return 1\n",
    "    else:\n",
    "        return 0\n",
    "    # -----------------------\n",
    "    # END YOUR CODE"
   ]
  },
  {
   "cell_type": "code",
   "execution_count": 43,
   "metadata": {},
   "outputs": [
    {
     "name": "stdout",
     "output_type": "stream",
     "text": [
      "~~~~~~~~~~~~~~~~~~~~~~~~~~~~~~~~~~~~~~~~~~~~~~~~~~~~~~~~~~~~~~~~~~~~~\n",
      "Running tests\n",
      "\n",
      "---------------------------------------------------------------------\n",
      "q7d > Suite 1 > Case 1\n",
      "\n",
      ">>> trump_wins(1000) in [0, 1]\n",
      "[0.01200000000000001, 0.022999999999999965, 0.03199999999999997, 0.00599999999999995]\n",
      "True\n",
      "\n",
      "# Error: expected\n",
      "#     True\n",
      "# but got\n",
      "#     [0.01200000000000001, 0.022999999999999965, 0.03199999999999997, 0.00599999999999995]\n",
      "#     True\n",
      "\n",
      "Run only this test case with \"python3 ok -q q7d --suite 1 --case 1\"\n",
      "---------------------------------------------------------------------\n",
      "Test summary\n",
      "    Passed: 0\n",
      "    Failed: 1\n",
      "[k..........] 0.0% passed\n",
      "\n"
     ]
    }
   ],
   "source": [
    "ok.grade(\"q7d\");"
   ]
  },
  {
   "cell_type": "markdown",
   "metadata": {},
   "source": [
    "### Question 7e\n",
    "\n",
    "If we repeat 100,000 simulations of the election, i.e. we call `trump_wins(1500)` 100,000 times, what proportion of these simulations predict a Trump victory? Give your answer as `proportion_trump`.\n",
    "\n",
    "This number represents the percent chance that a given sample will correctly predict Trump's victory *even if the sample was collected with absolutely no bias*. \n",
    "\n",
    "<!--\n",
    "BEGIN QUESTION\n",
    "name: q6f\n",
    "manual: false\n",
    "points: 1\n",
    "-->"
   ]
  },
  {
   "cell_type": "code",
   "execution_count": 37,
   "metadata": {},
   "outputs": [
    {
     "data": {
      "text/plain": [
       "0.979"
      ]
     },
     "execution_count": 37,
     "metadata": {},
     "output_type": "execute_result"
    }
   ],
   "source": [
    "# BEGIN YOUR CODE\n",
    "# -----------------------\n",
    "victory_trump = [1 for i in range(100000) if trump_wins(1500)]\n",
    "proportion_trump = len(victory_trump) / 100000\n",
    "# -----------------------\n",
    "# END YOUR CODE\n",
    "proportion_trump"
   ]
  },
  {
   "cell_type": "code",
   "execution_count": 38,
   "metadata": {},
   "outputs": [
    {
     "name": "stdout",
     "output_type": "stream",
     "text": [
      "~~~~~~~~~~~~~~~~~~~~~~~~~~~~~~~~~~~~~~~~~~~~~~~~~~~~~~~~~~~~~~~~~~~~~\n",
      "Running tests\n",
      "\n",
      "---------------------------------------------------------------------\n",
      "q7e > Suite 1 > Case 2\n",
      "\n",
      ">>> abs(proportion_trump - 0.695) <= 0.02\n",
      "False\n",
      "\n",
      "# Error: expected\n",
      "#     True\n",
      "# but got\n",
      "#     False\n",
      "\n",
      "Run only this test case with \"python3 ok -q q7e --suite 1 --case 2\"\n",
      "---------------------------------------------------------------------\n",
      "Test summary\n",
      "    Passed: 1\n",
      "    Failed: 1\n",
      "[oooook.....] 50.0% passed\n",
      "\n"
     ]
    }
   ],
   "source": [
    "ok.grade(\"q7e\");"
   ]
  },
  {
   "cell_type": "markdown",
   "metadata": {},
   "source": [
    "<br/><br/><br/>\n",
    "<br/><br/><br/>\n",
    "<hr style=\"border: 5px solid #990000;\" />\n",
    "<hr style=\"border: 1px solid #dbbcac;\" />\n",
    "\n",
    "### Congratulations! You have completed HW1.\n",
    "\n",
    "Make sure you have run all cells in your notebook in order before running the cell below, so that all images/graphs appear in the output.,\n",
    "\n",
    "**Please save before submitting!**"
   ]
  },
  {
   "cell_type": "markdown",
   "metadata": {},
   "source": [
    "For your convenience, you can run this cell to run all the tests at once!"
   ]
  },
  {
   "cell_type": "code",
   "execution_count": 28,
   "metadata": {},
   "outputs": [
    {
     "name": "stdout",
     "output_type": "stream",
     "text": [
      "Q    |\tPassed|\tFailed\n",
      "------------------------\n",
      "q1   |\t     4|\t     0\n",
      "q2a  |\t     2|\t     0\n",
      "q2b  |\t     2|\t     0\n",
      "q2c  |\t     2|\t     0\n",
      "q2d  |\t     2|\t     0\n",
      "q6a  |\t     3|\t     0\n",
      "q6b  |\t     1|\t     0\n",
      "q6c  |\t     0|\t     1\n",
      "q7a  |\t     2|\t     0\n",
      "q7b  |\t     1|\t     0\n",
      "q7c  |\t     0|\t     1\n",
      "q7d  |\t     0|\t     1\n",
      "q7e  |\t     0|\t     1\n"
     ]
    }
   ],
   "source": [
    "import os\n",
    "from IPython.utils import io\n",
    "\n",
    "print('{:5}|\\t{:6}|\\t{:6}'.format('Q', 'Passed', 'Failed'))\n",
    "print('------------------------')\n",
    "for q in sorted(os.listdir(\"tests\")):\n",
    "    if q.startswith('q') and len(q) <= 10:\n",
    "        with io.capture_output() as captured:\n",
    "            score = ok.grade(q[:-3]);\n",
    "        print('{:5}|\\t{:6}|\\t{:6}'.format(q[:-3], score['passed'], score['failed']))"
   ]
  },
  {
   "cell_type": "markdown",
   "metadata": {},
   "source": [
    "Please generate pdf as follows and submit it to Gradescope.\n",
    "\n",
    "**File > Print Preview > Print > Save as pdf**"
   ]
  },
  {
   "cell_type": "code",
   "execution_count": null,
   "metadata": {},
   "outputs": [],
   "source": []
  }
 ],
 "metadata": {
  "celltoolbar": "Create Assignment",
  "kernelspec": {
   "display_name": "Python 3",
   "language": "python",
   "name": "python3"
  },
  "language_info": {
   "codemirror_mode": {
    "name": "ipython",
    "version": 3
   },
   "file_extension": ".py",
   "mimetype": "text/x-python",
   "name": "python",
   "nbconvert_exporter": "python",
   "pygments_lexer": "ipython3",
   "version": "3.8.2"
  },
  "toc": {
   "colors": {
    "hover_highlight": "#DAA520",
    "running_highlight": "#FF0000",
    "selected_highlight": "#FFD700"
   },
   "moveMenuLeft": true,
   "nav_menu": {
    "height": "512px",
    "width": "252px"
   },
   "navigate_menu": true,
   "number_sections": true,
   "sideBar": true,
   "threshold": 4,
   "toc_cell": true,
   "toc_section_display": "none",
   "toc_window_display": true
  }
 },
 "nbformat": 4,
 "nbformat_minor": 2
}
